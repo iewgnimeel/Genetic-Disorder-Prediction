{
 "cells": [
  {
   "cell_type": "code",
   "execution_count": 1,
   "id": "f9352844-9780-4552-8954-6fa4b5a237ac",
   "metadata": {
    "tags": []
   },
   "outputs": [],
   "source": [
    "import numpy as np\n",
    "import pandas as pd\n",
    "import matplotlib.pyplot as plt\n",
    "import seaborn as sns\n",
    "from sklearn.model_selection import train_test_split\n",
    "from sklearn.impute import SimpleImputer\n",
    "from sklearn.preprocessing import OrdinalEncoder,OneHotEncoder,LabelEncoder,MinMaxScaler\n",
    "from sklearn.feature_selection import SelectKBest,chi2\n",
    "from sklearn.metrics import f1_score\n",
    "from sklearn.model_selection import RandomizedSearchCV,GridSearchCV\n",
    "from sklearn.calibration import CalibratedClassifierCV\n",
    "from sklearn.linear_model import LogisticRegression\n",
    "from sklearn.neighbors import KNeighborsClassifier\n",
    "from sklearn.ensemble import RandomForestClassifier,GradientBoostingClassifier\n",
    "from sklearn.tree import DecisionTreeClassifier\n"
   ]
  },
  {
   "cell_type": "code",
   "execution_count": 2,
   "id": "91ce8f1e-a6d9-4592-9a16-2a3e9d6963f6",
   "metadata": {
    "tags": []
   },
   "outputs": [],
   "source": [
    "#loading the datset\n",
    "train=pd.read_csv('train_genetic_disorders.csv')\n",
    "test=pd.read_csv('test_genetic_disorders.csv')\n",
    "data_train=train.copy()\n",
    "data_test=test.copy()"
   ]
  },
  {
   "cell_type": "code",
   "execution_count": 3,
   "id": "4c3f37d3-a176-4016-9350-04d395821acc",
   "metadata": {
    "tags": []
   },
   "outputs": [
    {
     "name": "stdout",
     "output_type": "stream",
     "text": [
      "Null rows_train: 1072\n"
     ]
    }
   ],
   "source": [
    "#check all null rows\n",
    "data_train[data_train.isnull().all(1)].shape\n",
    "print(\"Null rows_train:\",data_train[data_train.isnull().all(1)].shape[0])"
   ]
  },
  {
   "cell_type": "code",
   "execution_count": 4,
   "id": "71516bff-11b1-4757-bd17-cfe5b5adb890",
   "metadata": {
    "tags": []
   },
   "outputs": [
    {
     "name": "stdout",
     "output_type": "stream",
     "text": [
      "Null rows_test: 173\n"
     ]
    }
   ],
   "source": [
    "#check all null rows\n",
    "data_test[data_test.isnull().all(1)].shape\n",
    "print(\"Null rows_test:\",data_test[data_test.isnull().all(1)].shape[0])"
   ]
  },
  {
   "cell_type": "code",
   "execution_count": 5,
   "id": "93fb6aef-d16c-4bb4-a242-ad70fa72fb8a",
   "metadata": {
    "tags": []
   },
   "outputs": [],
   "source": [
    "#subset where no all rows being null\n",
    "data_fea_train=data_train[data_train.isnull().all(1)!=True]"
   ]
  },
  {
   "cell_type": "code",
   "execution_count": 6,
   "id": "98b7efcb-9f52-435c-8368-736607ac9904",
   "metadata": {
    "tags": []
   },
   "outputs": [
    {
     "data": {
      "text/plain": [
       "(21011, 45)"
      ]
     },
     "execution_count": 6,
     "metadata": {},
     "output_type": "execute_result"
    }
   ],
   "source": [
    "#shape of train after removing null rows\n",
    "data_fea_train.shape"
   ]
  },
  {
   "cell_type": "code",
   "execution_count": 7,
   "id": "d1828787-4d05-456a-8574-a72a41579395",
   "metadata": {
    "tags": []
   },
   "outputs": [],
   "source": [
    "#subset where no all rows being null\n",
    "data_fea_test=data_test[data_test.isnull().all(1)!=True]"
   ]
  },
  {
   "cell_type": "code",
   "execution_count": 8,
   "id": "a9d257f0-2ee0-4a0c-82c3-8c846d631eb1",
   "metadata": {
    "tags": []
   },
   "outputs": [],
   "source": [
    "# Dropping the features\n",
    "data_fea_train=data_fea_train.drop(columns=['Patient Id','Patient First Name','Family Name','Father\\'s name','Institute Name','Location of Institute','Test 1','Test 2','Test 3','Test 4',\n",
    "'Test 5','Parental consent'])\n",
    "data_fea_test=data_fea_test.drop(columns=['Patient Id','Patient First Name','Family Name','Father\\'s name','Institute Name','Location of Institute','Test 1','Test 2','Test 3','Test 4',\n",
    "'Test 5','Parental consent'])"
   ]
  },
  {
   "cell_type": "code",
   "execution_count": 9,
   "id": "da650d71-2d30-453f-8640-e24eb1142f6b",
   "metadata": {
    "tags": []
   },
   "outputs": [
    {
     "name": "stdout",
     "output_type": "stream",
     "text": [
      "(21011, 33) (9290, 31)\n"
     ]
    }
   ],
   "source": [
    "print(data_fea_train.shape,data_fea_test.shape)"
   ]
  },
  {
   "cell_type": "code",
   "execution_count": 10,
   "id": "ed400811-e36c-44e7-a93a-b6ad5919b50d",
   "metadata": {
    "tags": []
   },
   "outputs": [],
   "source": [
    "# renaming the columns\n",
    "data_fea_train=data_fea_train.rename(columns={\"Genes in mother's side\":'defective_mother',\n",
    "                    'Inherited from father':'defective_father',\n",
    "                    'Maternal gene':'maternal_gene','Paternal gene':'paternal_gene',\n",
    "                    'Respiratory Rate (breaths/min)':'respiratory_rate','Heart Rate (rates/min':'heart_rate',\n",
    "                    'Parental consent':'parental_consent','Follow-up':'follow_up','Birth asphyxia':'birth_asphyxia',\n",
    "                    'Autopsy shows birth defect (if applicable)':'birth_defect_autopsy','Place of birth':'birth_place',\n",
    "                    'Folic acid details (peri-conceptional)':'folic_acid_periconceptional',\n",
    "                    'H/O serious maternal illness':'maternal_illness','H/O radiation exposure (x-ray)':'radiation_exposure',\n",
    "                    'H/O substance abuse':'substance_abuse','Assisted conception IVF/ART':'assisted_conception',\n",
    "                    'History of anomalies in previous pregnancies':'previous_pregnancy_anomalies',\n",
    "                    'Birth defects':'birth_defects','Blood test result':'blood_test_result','Genetic Disorder':'genetic_disorder',\n",
    "                    'Disorder Subclass':'disorder_subclass','Patient Age':'patient_age','Blood cell count (mcL)':'blood_cell_count',\n",
    "                    \"Mother's age\":'mother_age',\"Father's age\":'father_age','No. of previous abortion':'num_previous_abortion',\n",
    "                    'White Blood cell count (thousand per microliter)':'WBC_count'})"
   ]
  },
  {
   "cell_type": "code",
   "execution_count": 11,
   "id": "603ed744-3bbb-4f56-8fa7-508927c44679",
   "metadata": {
    "tags": []
   },
   "outputs": [],
   "source": [
    "data_fea_test=data_fea_test.rename(columns={\"Genes in mother's side\":'defective_mother',\n",
    "                    'Inherited from father':'defective_father',\n",
    "                    'Maternal gene':'maternal_gene','Paternal gene':'paternal_gene',\n",
    "                    'Respiratory Rate (breaths/min)':'respiratory_rate','Heart Rate (rates/min':'heart_rate',\n",
    "                    'Parental consent':'parental_consent','Follow-up':'follow_up','Birth asphyxia':'birth_asphyxia',\n",
    "                    'Autopsy shows birth defect (if applicable)':'birth_defect_autopsy','Place of birth':'birth_place',\n",
    "                    'Folic acid details (peri-conceptional)':'folic_acid_periconceptional',\n",
    "                    'H/O serious maternal illness':'maternal_illness','H/O radiation exposure (x-ray)':'radiation_exposure',\n",
    "                    'H/O substance abuse':'substance_abuse','Assisted conception IVF/ART':'assisted_conception',\n",
    "                    'History of anomalies in previous pregnancies':'previous_pregnancy_anomalies',\n",
    "                    'Birth defects':'birth_defects','Blood test result':'blood_test_result','Genetic Disorder':'genetic_disorder',\n",
    "                    'Disorder Subclass':'disorder_subclass','Patient Age':'patient_age','Blood cell count (mcL)':'blood_cell_count',\n",
    "                    \"Mother's age\":'mother_age',\"Father's age\":'father_age','No. of previous abortion':'num_previous_abortion',\n",
    "                    'White Blood cell count (thousand per microliter)':'WBC_count'})"
   ]
  },
  {
   "cell_type": "code",
   "execution_count": 12,
   "id": "4a640d8c-334e-4e18-93cf-9dfa63c5c5d8",
   "metadata": {
    "tags": []
   },
   "outputs": [
    {
     "data": {
      "text/plain": [
       "(2049, 2068)"
      ]
     },
     "execution_count": 12,
     "metadata": {},
     "output_type": "execute_result"
    }
   ],
   "source": [
    "# missing target variables\n",
    "data_fea_train.iloc[:,-2].isnull().sum(),data_fea_train.iloc[:,-1].isnull().sum()"
   ]
  },
  {
   "cell_type": "code",
   "execution_count": 13,
   "id": "fbf28d0d-53d6-4ad8-8801-a80c8656d095",
   "metadata": {
    "tags": []
   },
   "outputs": [],
   "source": [
    "# removing rows of missing target variables\n",
    "data_fea_train=data_fea_train[(data_fea_train['genetic_disorder'].isnull()!=True)&(data_fea_train['disorder_subclass'].isnull()!=True)]"
   ]
  },
  {
   "cell_type": "code",
   "execution_count": 14,
   "id": "2aca20da-54ea-4b1a-8e4e-14d7cb526474",
   "metadata": {
    "tags": []
   },
   "outputs": [
    {
     "data": {
      "text/plain": [
       "(17160, 33)"
      ]
     },
     "execution_count": 14,
     "metadata": {},
     "output_type": "execute_result"
    }
   ],
   "source": [
    "data_fea_train.shape"
   ]
  },
  {
   "cell_type": "code",
   "execution_count": 15,
   "id": "46a95a54-3521-466f-8608-eb9872d946c7",
   "metadata": {
    "tags": []
   },
   "outputs": [],
   "source": [
    "#Subsetting\n",
    "X=data_fea_train.iloc[:,:-2]\n",
    "y1=data_fea_train.iloc[:,-2]\n",
    "y2=data_fea_train.iloc[:,-1]"
   ]
  },
  {
   "cell_type": "code",
   "execution_count": 16,
   "id": "97ef566a-0bd5-400e-bbd9-0da711cb5160",
   "metadata": {
    "tags": []
   },
   "outputs": [
    {
     "data": {
      "text/plain": [
       "((17160, 31), (17160,), (17160,))"
      ]
     },
     "execution_count": 16,
     "metadata": {},
     "output_type": "execute_result"
    }
   ],
   "source": [
    "# shape of features,target variables\n",
    "X.shape,y1.shape,y2.shape"
   ]
  },
  {
   "cell_type": "code",
   "execution_count": 17,
   "id": "75c31e44-690c-4d42-a2e0-262b3e9a89f7",
   "metadata": {
    "tags": []
   },
   "outputs": [],
   "source": [
    "# test data\n",
    "X_test=data_fea_test"
   ]
  },
  {
   "cell_type": "code",
   "execution_count": 18,
   "id": "a8995950-c875-428e-8ebb-cd2f1e15e5ca",
   "metadata": {
    "tags": []
   },
   "outputs": [],
   "source": [
    "#converting dissimilar datatype to one\n",
    "for i in X_test.columns:\n",
    "    if X_test[i].dtype!=X[i].dtype:\n",
    "        X_test[i]=X_test[i].astype(X[i].dtype.name)"
   ]
  },
  {
   "cell_type": "code",
   "execution_count": 19,
   "id": "f31c08fc-c643-4d1c-92e3-cd437db7b5c3",
   "metadata": {
    "tags": []
   },
   "outputs": [],
   "source": [
    "# Data Cleaning\n",
    "X_test=X_test.replace('-99',np.nan)\n",
    "# Cleaning_data\n",
    "# replace '-' with other values\n",
    "X['radiation_exposure']=X['radiation_exposure'].replace('-','others')\n",
    "X['substance_abuse']=X['substance_abuse'].replace('-','others')\n",
    "# Cleaning_data\n",
    "X_test['radiation_exposure']=X_test['radiation_exposure'].replace('-','others')\n",
    "X_test['substance_abuse']=X_test['substance_abuse'].replace('-','others')"
   ]
  },
  {
   "cell_type": "code",
   "execution_count": 20,
   "id": "3fb7d3c8-cf00-41d9-91a3-e23bdd64010a",
   "metadata": {
    "tags": []
   },
   "outputs": [],
   "source": [
    "# Data Cleaning\n",
    "X_test['WBC_count']=X_test['WBC_count'].mask(X_test['WBC_count']<0,np.nan)\n",
    "X_test['num_previous_abortion']=X_test['num_previous_abortion'].mask(X_test['num_previous_abortion']<0,np.nan)"
   ]
  },
  {
   "cell_type": "code",
   "execution_count": 21,
   "id": "a476e66a-24a9-4d8b-91b5-871803481d37",
   "metadata": {
    "tags": []
   },
   "outputs": [],
   "source": [
    "#Splitting the data\n",
    "X_train1,X_val1,y_train1,y_val1= train_test_split(X,y1,stratify=y1,test_size=0.20)\n",
    "X_train2,X_val2,y_train2,y_val2= train_test_split(X,y2,stratify=y2,test_size=0.20)"
   ]
  },
  {
   "cell_type": "code",
   "execution_count": 22,
   "id": "fa0db463-5ca1-4fd6-b7df-cc40b52a2e20",
   "metadata": {
    "tags": []
   },
   "outputs": [
    {
     "name": "stdout",
     "output_type": "stream",
     "text": [
      "(13728, 31) (3432, 31) (13728,) (3432,)\n",
      "(13728, 31) (3432, 31) (13728,) (3432,)\n"
     ]
    }
   ],
   "source": [
    "# shape of train,validation set\n",
    "print(X_train1.shape,X_val1.shape,y_train1.shape,y_val1.shape)\n",
    "print(X_train2.shape,X_val2.shape,y_train2.shape,y_val2.shape)"
   ]
  },
  {
   "cell_type": "code",
   "execution_count": 23,
   "id": "8027fe23-2c30-496d-bb77-c6341c52adf5",
   "metadata": {
    "tags": []
   },
   "outputs": [],
   "source": [
    "# Missing value imputation\n",
    "from sklearn.impute import SimpleImputer\n",
    "imp_mode=SimpleImputer(strategy='most_frequent')\n",
    "imp_mode_num=SimpleImputer(strategy='most_frequent')\n",
    "imp_median=SimpleImputer(strategy='median')"
   ]
  },
  {
   "cell_type": "code",
   "execution_count": 24,
   "id": "f78c61d4-248d-479f-8a81-3cc025c4f1af",
   "metadata": {
    "tags": []
   },
   "outputs": [],
   "source": [
    "pd.options.mode.chained_assignment = None  "
   ]
  },
  {
   "cell_type": "code",
   "execution_count": 25,
   "id": "4bb4dc51-dc68-40fb-a94f-59474ead9524",
   "metadata": {
    "tags": []
   },
   "outputs": [],
   "source": [
    "# missing value imputation\n",
    "for i in X.columns:\n",
    "    if (X[i].dtype.name!='object')&(X[i].nunique()<=3):\n",
    "        imp_mode_num.fit(np.array(X_train1[i]).reshape(-1,1))\n",
    "        X_train1[i]=imp_mode_num.transform(np.array(X_train1[i]).reshape(-1,1))\n",
    "        X_val1[i]=imp_mode_num.transform(np.array(X_val1[i]).reshape(-1,1))\n",
    "        X_test[i]=imp_mode_num.transform(np.array(X_test[i]).reshape(-1,1))\n",
    "    elif (X[i].dtype.name!='object')&(X[i].nunique()>3):\n",
    "        imp_median.fit(np.array(X_train1[i]).reshape(-1,1))\n",
    "        X_train1[i]=imp_median.transform(np.array(X_train1[i]).reshape(-1,1))\n",
    "        X_val1[i]=imp_median.transform(np.array(X_val1[i]).reshape(-1,1))\n",
    "        X_test[i]=imp_median.transform(np.array(X_test[i]).reshape(-1,1))\n",
    "    else:\n",
    "        imp_mode.fit(np.array(X_train1[i]).reshape(-1, 1))\n",
    "        X_train1[i] = imp_mode.transform(np.array(X_train1[i]).reshape(-1, 1))[:, 0]\n",
    "        X_val1[i] = imp_mode.transform(np.array(X_val1[i]).reshape(-1, 1))[:, 0]\n",
    "        X_test[i] = imp_mode.transform(np.array(X_test[i]).reshape(-1, 1))[:, 0]\n"
   ]
  },
  {
   "cell_type": "code",
   "execution_count": 26,
   "id": "fea7f3b7-5749-4736-b6a0-6df77a970b83",
   "metadata": {
    "tags": []
   },
   "outputs": [
    {
     "data": {
      "text/plain": [
       "patient_age                     0\n",
       "defective_mother                0\n",
       "defective_father                0\n",
       "maternal_gene                   0\n",
       "paternal_gene                   0\n",
       "blood_cell_count                0\n",
       "mother_age                      0\n",
       "father_age                      0\n",
       "Status                          0\n",
       "respiratory_rate                0\n",
       "heart_rate                      0\n",
       "follow_up                       0\n",
       "Gender                          0\n",
       "birth_asphyxia                  0\n",
       "birth_defect_autopsy            0\n",
       "birth_place                     0\n",
       "folic_acid_periconceptional     0\n",
       "maternal_illness                0\n",
       "radiation_exposure              0\n",
       "substance_abuse                 0\n",
       "assisted_conception             0\n",
       "previous_pregnancy_anomalies    0\n",
       "num_previous_abortion           0\n",
       "birth_defects                   0\n",
       "WBC_count                       0\n",
       "blood_test_result               0\n",
       "Symptom 1                       0\n",
       "Symptom 2                       0\n",
       "Symptom 3                       0\n",
       "Symptom 4                       0\n",
       "Symptom 5                       0\n",
       "dtype: int64"
      ]
     },
     "execution_count": 26,
     "metadata": {},
     "output_type": "execute_result"
    }
   ],
   "source": [
    "# checking null values\n",
    "X_train1.isnull().sum()"
   ]
  },
  {
   "cell_type": "code",
   "execution_count": 27,
   "id": "b69f55fe-96f5-450d-840e-65cdbafd8597",
   "metadata": {
    "tags": []
   },
   "outputs": [
    {
     "data": {
      "text/plain": [
       "patient_age                     0\n",
       "defective_mother                0\n",
       "defective_father                0\n",
       "maternal_gene                   0\n",
       "paternal_gene                   0\n",
       "blood_cell_count                0\n",
       "mother_age                      0\n",
       "father_age                      0\n",
       "Status                          0\n",
       "respiratory_rate                0\n",
       "heart_rate                      0\n",
       "follow_up                       0\n",
       "Gender                          0\n",
       "birth_asphyxia                  0\n",
       "birth_defect_autopsy            0\n",
       "birth_place                     0\n",
       "folic_acid_periconceptional     0\n",
       "maternal_illness                0\n",
       "radiation_exposure              0\n",
       "substance_abuse                 0\n",
       "assisted_conception             0\n",
       "previous_pregnancy_anomalies    0\n",
       "num_previous_abortion           0\n",
       "birth_defects                   0\n",
       "WBC_count                       0\n",
       "blood_test_result               0\n",
       "Symptom 1                       0\n",
       "Symptom 2                       0\n",
       "Symptom 3                       0\n",
       "Symptom 4                       0\n",
       "Symptom 5                       0\n",
       "dtype: int64"
      ]
     },
     "execution_count": 27,
     "metadata": {},
     "output_type": "execute_result"
    }
   ],
   "source": [
    "X_val1.isnull().sum()"
   ]
  },
  {
   "cell_type": "code",
   "execution_count": 28,
   "id": "27b3a60e-7d84-4b84-a299-6697c634f077",
   "metadata": {
    "tags": []
   },
   "outputs": [
    {
     "data": {
      "text/plain": [
       "patient_age                     0\n",
       "defective_mother                0\n",
       "defective_father                0\n",
       "maternal_gene                   0\n",
       "paternal_gene                   0\n",
       "blood_cell_count                0\n",
       "mother_age                      0\n",
       "father_age                      0\n",
       "Status                          0\n",
       "respiratory_rate                0\n",
       "heart_rate                      0\n",
       "follow_up                       0\n",
       "Gender                          0\n",
       "birth_asphyxia                  0\n",
       "birth_defect_autopsy            0\n",
       "birth_place                     0\n",
       "folic_acid_periconceptional     0\n",
       "maternal_illness                0\n",
       "radiation_exposure              0\n",
       "substance_abuse                 0\n",
       "assisted_conception             0\n",
       "previous_pregnancy_anomalies    0\n",
       "num_previous_abortion           0\n",
       "birth_defects                   0\n",
       "WBC_count                       0\n",
       "blood_test_result               0\n",
       "Symptom 1                       0\n",
       "Symptom 2                       0\n",
       "Symptom 3                       0\n",
       "Symptom 4                       0\n",
       "Symptom 5                       0\n",
       "dtype: int64"
      ]
     },
     "execution_count": 28,
     "metadata": {},
     "output_type": "execute_result"
    }
   ],
   "source": [
    "X_test.isnull().sum()\n"
   ]
  },
  {
   "cell_type": "code",
   "execution_count": 29,
   "id": "db1f2228-2e7d-41d7-b0c2-84dc79ce5a7d",
   "metadata": {
    "tags": []
   },
   "outputs": [],
   "source": [
    "from sklearn.preprocessing import OrdinalEncoder,OneHotEncoder,LabelEncoder,MinMaxScaler\n",
    "ord_enc=OrdinalEncoder()\n",
    "ohe_enc = OneHotEncoder()  # Set sparse=False to get a dense array\n",
    "min_max=MinMaxScaler()"
   ]
  },
  {
   "cell_type": "code",
   "execution_count": 30,
   "id": "95b874a5-fe84-4751-a0be-4dc680a9778d",
   "metadata": {
    "tags": []
   },
   "outputs": [],
   "source": [
    "# reset index\n",
    "X_train1.reset_index(inplace=True)\n",
    "X_val1.reset_index(inplace=True)\n"
   ]
  },
  {
   "cell_type": "code",
   "execution_count": 31,
   "id": "b0cb3cbf-7ece-4f81-a414-5dd0bf547fd7",
   "metadata": {
    "tags": []
   },
   "outputs": [],
   "source": [
    "# Encoding the features\n",
    "for i in X.columns:\n",
    "    if X[i].dtype.name == 'object':\n",
    "        if i in X and X[i].nunique() <= 2:\n",
    "            ord_enc.fit(np.array(X_train1[i]).reshape(-1, 1))\n",
    "            X_train1.loc[:, i] = ord_enc.transform(np.array(X_train1[i]).reshape(-1, 1))\n",
    "            X_val1.loc[:, i] = ord_enc.transform(np.array(X_val1[i]).reshape(-1, 1))\n",
    "            X_test.loc[:, i] = ord_enc.transform(np.array(X_test[i]).reshape(-1, 1))\n",
    "        else:\n",
    "            # Perform one-hot encoding using pd.get_dummies()\n",
    "            encoded_features_tr1 = pd.get_dummies(X_train1[i], prefix=i, drop_first=True)\n",
    "            encoded_features_va1 = pd.get_dummies(X_val1[i], prefix=i, drop_first=True)\n",
    "            encoded_features_test = pd.get_dummies(X_test[i], prefix=i, drop_first=True)\n",
    "            \n",
    "            # Drop the original categorical column before concatenating\n",
    "            X_train1.drop(columns=[i], inplace=True)\n",
    "            X_val1.drop(columns=[i], inplace=True)\n",
    "            X_test.drop(columns=[i], inplace=True)\n",
    "            \n",
    "            # Concatenate the encoded features with the main DataFrames\n",
    "            X_train1 = pd.concat([X_train1, encoded_features_tr1], axis=1)\n",
    "            X_val1 = pd.concat([X_val1, encoded_features_va1], axis=1)\n",
    "            X_test = pd.concat([X_test, encoded_features_test], axis=1)"
   ]
  },
  {
   "cell_type": "code",
   "execution_count": 32,
   "id": "4c5c73af-5a4d-4fb9-a8a9-3258d57252b5",
   "metadata": {
    "tags": []
   },
   "outputs": [
    {
     "data": {
      "text/plain": [
       "((13728, 42), (3432, 42), (9290, 41))"
      ]
     },
     "execution_count": 32,
     "metadata": {},
     "output_type": "execute_result"
    }
   ],
   "source": [
    "# shape of the train,test,val\n",
    "X_train1.shape,X_val1.shape,X_test.shape"
   ]
  },
  {
   "cell_type": "code",
   "execution_count": 33,
   "id": "8521028f-1ea7-4f6f-be90-0fcdad46f1d2",
   "metadata": {
    "tags": []
   },
   "outputs": [],
   "source": [
    "X_train1.drop(columns='index',inplace=True)\n",
    "X_val1.drop(columns='index',inplace=True)"
   ]
  },
  {
   "cell_type": "code",
   "execution_count": 34,
   "id": "467c196b-43e7-4d3a-a3af-5b1127e526f5",
   "metadata": {
    "tags": []
   },
   "outputs": [],
   "source": [
    "from sklearn.preprocessing import MinMaxScaler\n",
    "min_max=MinMaxScaler()\n",
    "X2=min_max.fit_transform(X_train1)"
   ]
  },
  {
   "cell_type": "code",
   "execution_count": 35,
   "id": "a55fea32-f08a-45f4-9cbc-5b30349c46e5",
   "metadata": {
    "tags": []
   },
   "outputs": [],
   "source": [
    "# normalised minmax\n",
    "X2=pd.DataFrame(X2,columns=X_train1.columns)"
   ]
  },
  {
   "cell_type": "code",
   "execution_count": 36,
   "id": "07fe924f-1e76-48f2-8f0f-7d872b91f78f",
   "metadata": {
    "tags": []
   },
   "outputs": [],
   "source": [
    "#normalised val1\n",
    "X2_val=min_max.transform(X_val1)\n",
    "X2_val=pd.DataFrame(X2_val,columns=X_val1.columns)"
   ]
  },
  {
   "cell_type": "code",
   "execution_count": 37,
   "id": "56bbd8ee-e00d-4193-b53b-bf013756ec95",
   "metadata": {
    "tags": []
   },
   "outputs": [],
   "source": [
    "#normalised test\n",
    "X2_test=min_max.transform(X_test)\n",
    "X2_test=pd.DataFrame(X2_test,columns=X_test.columns)"
   ]
  },
  {
   "cell_type": "code",
   "execution_count": 38,
   "id": "fe563b79-bf0b-45c2-a9d1-519bf54d0af1",
   "metadata": {
    "tags": []
   },
   "outputs": [
    {
     "data": {
      "text/plain": [
       "(array([0, 1, 2, 3, 4, 5, 6, 7, 8]), array([0, 1, 2, 3, 4, 5, 6, 7, 8]))"
      ]
     },
     "execution_count": 38,
     "metadata": {},
     "output_type": "execute_result"
    }
   ],
   "source": [
    "# enoding the target variables1\n",
    "lab_enc1=LabelEncoder()\n",
    "y1_en=lab_enc1.fit_transform(y_train1)\n",
    "y1_en_val=lab_enc1.transform(y_val1)\n",
    "# printing encoded targets\n",
    "np.unique(y1_en),np.unique(y1_en_val)\n",
    "# enoding the target variables2\n",
    "lab_enc2=LabelEncoder()\n",
    "y2_en=lab_enc2.fit_transform(y_train2)\n",
    "y2_en_val=lab_enc2.transform(y_val2)\n",
    "# printing encoded targets\n",
    "np.unique(y2_en),np.unique(y2_en_val)"
   ]
  },
  {
   "cell_type": "code",
   "execution_count": 39,
   "id": "76af4d28-ea29-4453-8717-58acfccb6562",
   "metadata": {
    "tags": []
   },
   "outputs": [
    {
     "name": "stdout",
     "output_type": "stream",
     "text": [
      "shape of X before SMOTE: (13728, 41) \n",
      "shape of X after SMOTE: (21039, 41)\n",
      "balanced class (%):\n"
     ]
    },
    {
     "data": {
      "text/plain": [
       "0    33.333333\n",
       "1    33.333333\n",
       "2    33.333333\n",
       "Name: proportion, dtype: float64"
      ]
     },
     "execution_count": 39,
     "metadata": {},
     "output_type": "execute_result"
    }
   ],
   "source": [
    "from imblearn.over_sampling import BorderlineSMOTE\n",
    "sm = BorderlineSMOTE(random_state=42)\n",
    "X_sm, y_sm = sm.fit_resample(X2, pd.DataFrame(y1_en))\n",
    "print(f'''shape of X before SMOTE: {X2.shape} \n",
    "shape of X after SMOTE: {X_sm.shape}''')\n",
    "print('balanced class (%):')\n",
    "y_sm.value_counts(normalize=True) * 100"
   ]
  },
  {
   "cell_type": "code",
   "execution_count": 40,
   "id": "5c98d824-6985-48b6-949a-b20615b612dc",
   "metadata": {
    "tags": []
   },
   "outputs": [
    {
     "data": {
      "text/html": [
       "<div>\n",
       "<style scoped>\n",
       "    .dataframe tbody tr th:only-of-type {\n",
       "        vertical-align: middle;\n",
       "    }\n",
       "\n",
       "    .dataframe tbody tr th {\n",
       "        vertical-align: top;\n",
       "    }\n",
       "\n",
       "    .dataframe thead th {\n",
       "        text-align: right;\n",
       "    }\n",
       "</style>\n",
       "<table border=\"1\" class=\"dataframe\">\n",
       "  <thead>\n",
       "    <tr style=\"text-align: right;\">\n",
       "      <th></th>\n",
       "      <th>patient_age</th>\n",
       "      <th>defective_mother</th>\n",
       "      <th>defective_father</th>\n",
       "      <th>maternal_gene</th>\n",
       "      <th>paternal_gene</th>\n",
       "      <th>blood_cell_count</th>\n",
       "      <th>mother_age</th>\n",
       "      <th>father_age</th>\n",
       "      <th>Status</th>\n",
       "      <th>respiratory_rate</th>\n",
       "      <th>...</th>\n",
       "      <th>birth_defect_autopsy_Yes</th>\n",
       "      <th>radiation_exposure_Not applicable</th>\n",
       "      <th>radiation_exposure_Yes</th>\n",
       "      <th>radiation_exposure_others</th>\n",
       "      <th>substance_abuse_Not applicable</th>\n",
       "      <th>substance_abuse_Yes</th>\n",
       "      <th>substance_abuse_others</th>\n",
       "      <th>blood_test_result_inconclusive</th>\n",
       "      <th>blood_test_result_normal</th>\n",
       "      <th>blood_test_result_slightly abnormal</th>\n",
       "    </tr>\n",
       "  </thead>\n",
       "  <tbody>\n",
       "    <tr>\n",
       "      <th>0</th>\n",
       "      <td>0.714286</td>\n",
       "      <td>1.0</td>\n",
       "      <td>0.0</td>\n",
       "      <td>0.0</td>\n",
       "      <td>0.0</td>\n",
       "      <td>0.671194</td>\n",
       "      <td>0.939394</td>\n",
       "      <td>0.590909</td>\n",
       "      <td>1.0</td>\n",
       "      <td>0.0</td>\n",
       "      <td>...</td>\n",
       "      <td>0.0</td>\n",
       "      <td>0.0</td>\n",
       "      <td>0.0</td>\n",
       "      <td>1.0</td>\n",
       "      <td>1.0</td>\n",
       "      <td>0.0</td>\n",
       "      <td>0.0</td>\n",
       "      <td>0.0</td>\n",
       "      <td>0.0</td>\n",
       "      <td>1.0</td>\n",
       "    </tr>\n",
       "    <tr>\n",
       "      <th>1</th>\n",
       "      <td>0.142857</td>\n",
       "      <td>1.0</td>\n",
       "      <td>1.0</td>\n",
       "      <td>1.0</td>\n",
       "      <td>1.0</td>\n",
       "      <td>0.467503</td>\n",
       "      <td>0.242424</td>\n",
       "      <td>0.795455</td>\n",
       "      <td>0.0</td>\n",
       "      <td>0.0</td>\n",
       "      <td>...</td>\n",
       "      <td>0.0</td>\n",
       "      <td>1.0</td>\n",
       "      <td>0.0</td>\n",
       "      <td>0.0</td>\n",
       "      <td>1.0</td>\n",
       "      <td>0.0</td>\n",
       "      <td>0.0</td>\n",
       "      <td>0.0</td>\n",
       "      <td>0.0</td>\n",
       "      <td>1.0</td>\n",
       "    </tr>\n",
       "  </tbody>\n",
       "</table>\n",
       "<p>2 rows × 41 columns</p>\n",
       "</div>"
      ],
      "text/plain": [
       "   patient_age  defective_mother  defective_father  maternal_gene   \n",
       "0     0.714286               1.0               0.0            0.0  \\\n",
       "1     0.142857               1.0               1.0            1.0   \n",
       "\n",
       "   paternal_gene  blood_cell_count  mother_age  father_age  Status   \n",
       "0            0.0          0.671194    0.939394    0.590909     1.0  \\\n",
       "1            1.0          0.467503    0.242424    0.795455     0.0   \n",
       "\n",
       "   respiratory_rate  ...  birth_defect_autopsy_Yes   \n",
       "0               0.0  ...                       0.0  \\\n",
       "1               0.0  ...                       0.0   \n",
       "\n",
       "   radiation_exposure_Not applicable  radiation_exposure_Yes   \n",
       "0                                0.0                     0.0  \\\n",
       "1                                1.0                     0.0   \n",
       "\n",
       "   radiation_exposure_others  substance_abuse_Not applicable   \n",
       "0                        1.0                             1.0  \\\n",
       "1                        0.0                             1.0   \n",
       "\n",
       "   substance_abuse_Yes  substance_abuse_others   \n",
       "0                  0.0                     0.0  \\\n",
       "1                  0.0                     0.0   \n",
       "\n",
       "   blood_test_result_inconclusive  blood_test_result_normal   \n",
       "0                             0.0                       0.0  \\\n",
       "1                             0.0                       0.0   \n",
       "\n",
       "   blood_test_result_slightly abnormal  \n",
       "0                                  1.0  \n",
       "1                                  1.0  \n",
       "\n",
       "[2 rows x 41 columns]"
      ]
     },
     "execution_count": 40,
     "metadata": {},
     "output_type": "execute_result"
    }
   ],
   "source": [
    "X_sm.head(2)"
   ]
  },
  {
   "cell_type": "code",
   "execution_count": 41,
   "id": "c1865f2d-70e6-41cb-a94f-8a9a4239f300",
   "metadata": {
    "tags": []
   },
   "outputs": [],
   "source": [
    "y1_enco=np.array(y_sm).ravel()"
   ]
  },
  {
   "cell_type": "code",
   "execution_count": 42,
   "id": "f4514230-af8d-4a4c-a280-cb101712e833",
   "metadata": {
    "tags": []
   },
   "outputs": [],
   "source": [
    "sel1=SelectKBest(chi2, k=25).fit(X_sm,y1_enco)"
   ]
  },
  {
   "cell_type": "code",
   "execution_count": 43,
   "id": "9ba98eb0-69df-46b5-ab87-61ec758f1cce",
   "metadata": {
    "tags": []
   },
   "outputs": [
    {
     "name": "stdout",
     "output_type": "stream",
     "text": [
      "(21039, 25)\n"
     ]
    }
   ],
   "source": [
    "cols=sel1.get_support(indices=True)\n",
    "print(X_sm.iloc[:,cols].shape)\n",
    "result_kbest_20=X_sm.iloc[:,cols]"
   ]
  },
  {
   "cell_type": "code",
   "execution_count": 44,
   "id": "fe402e9c-8251-451f-8d86-e0374210a6bd",
   "metadata": {
    "tags": []
   },
   "outputs": [
    {
     "name": "stdout",
     "output_type": "stream",
     "text": [
      "Index(['defective_mother', 'defective_father', 'maternal_gene',\n",
      "       'paternal_gene', 'Status', 'respiratory_rate', 'follow_up',\n",
      "       'folic_acid_periconceptional', 'previous_pregnancy_anomalies',\n",
      "       'Symptom 1', 'Symptom 2', 'Symptom 3', 'Symptom 4', 'Symptom 5',\n",
      "       'Gender_Male', 'birth_asphyxia_No record',\n",
      "       'birth_asphyxia_Not available', 'birth_defect_autopsy_Yes',\n",
      "       'radiation_exposure_Not applicable', 'radiation_exposure_others',\n",
      "       'substance_abuse_Not applicable', 'substance_abuse_Yes',\n",
      "       'blood_test_result_inconclusive', 'blood_test_result_normal',\n",
      "       'blood_test_result_slightly abnormal'],\n",
      "      dtype='object')\n"
     ]
    }
   ],
   "source": [
    "sele_fea= X2.columns[(sel1.get_support())]\n",
    "print(sele_fea)"
   ]
  },
  {
   "cell_type": "code",
   "execution_count": 45,
   "id": "d012b99a-5f44-4f42-8701-ca0738034552",
   "metadata": {
    "tags": []
   },
   "outputs": [
    {
     "name": "stdout",
     "output_type": "stream",
     "text": [
      "(3432, 25)\n"
     ]
    }
   ],
   "source": [
    "print(X2_val.iloc[:,cols].shape)\n",
    "result_kbest_val=X2_val.iloc[:,cols]"
   ]
  },
  {
   "cell_type": "code",
   "execution_count": 46,
   "id": "f318950f-bcf4-43e3-8fb2-a34b90975aa6",
   "metadata": {
    "tags": []
   },
   "outputs": [
    {
     "name": "stdout",
     "output_type": "stream",
     "text": [
      "(9290, 25)\n"
     ]
    }
   ],
   "source": [
    "print(X2_test.iloc[:,cols].shape)\n",
    "result_kbest_test20=X2_test.iloc[:,cols]"
   ]
  },
  {
   "cell_type": "code",
   "execution_count": 54,
   "id": "05f5dd68-626a-4fca-889d-0b72480198ed",
   "metadata": {
    "tags": []
   },
   "outputs": [
    {
     "name": "stdout",
     "output_type": "stream",
     "text": [
      "Fitting 5 folds for each of 10 candidates, totalling 50 fits\n"
     ]
    },
    {
     "data": {
      "text/html": [
       "<style>#sk-container-id-2 {color: black;background-color: white;}#sk-container-id-2 pre{padding: 0;}#sk-container-id-2 div.sk-toggleable {background-color: white;}#sk-container-id-2 label.sk-toggleable__label {cursor: pointer;display: block;width: 100%;margin-bottom: 0;padding: 0.3em;box-sizing: border-box;text-align: center;}#sk-container-id-2 label.sk-toggleable__label-arrow:before {content: \"▸\";float: left;margin-right: 0.25em;color: #696969;}#sk-container-id-2 label.sk-toggleable__label-arrow:hover:before {color: black;}#sk-container-id-2 div.sk-estimator:hover label.sk-toggleable__label-arrow:before {color: black;}#sk-container-id-2 div.sk-toggleable__content {max-height: 0;max-width: 0;overflow: hidden;text-align: left;background-color: #f0f8ff;}#sk-container-id-2 div.sk-toggleable__content pre {margin: 0.2em;color: black;border-radius: 0.25em;background-color: #f0f8ff;}#sk-container-id-2 input.sk-toggleable__control:checked~div.sk-toggleable__content {max-height: 200px;max-width: 100%;overflow: auto;}#sk-container-id-2 input.sk-toggleable__control:checked~label.sk-toggleable__label-arrow:before {content: \"▾\";}#sk-container-id-2 div.sk-estimator input.sk-toggleable__control:checked~label.sk-toggleable__label {background-color: #d4ebff;}#sk-container-id-2 div.sk-label input.sk-toggleable__control:checked~label.sk-toggleable__label {background-color: #d4ebff;}#sk-container-id-2 input.sk-hidden--visually {border: 0;clip: rect(1px 1px 1px 1px);clip: rect(1px, 1px, 1px, 1px);height: 1px;margin: -1px;overflow: hidden;padding: 0;position: absolute;width: 1px;}#sk-container-id-2 div.sk-estimator {font-family: monospace;background-color: #f0f8ff;border: 1px dotted black;border-radius: 0.25em;box-sizing: border-box;margin-bottom: 0.5em;}#sk-container-id-2 div.sk-estimator:hover {background-color: #d4ebff;}#sk-container-id-2 div.sk-parallel-item::after {content: \"\";width: 100%;border-bottom: 1px solid gray;flex-grow: 1;}#sk-container-id-2 div.sk-label:hover label.sk-toggleable__label {background-color: #d4ebff;}#sk-container-id-2 div.sk-serial::before {content: \"\";position: absolute;border-left: 1px solid gray;box-sizing: border-box;top: 0;bottom: 0;left: 50%;z-index: 0;}#sk-container-id-2 div.sk-serial {display: flex;flex-direction: column;align-items: center;background-color: white;padding-right: 0.2em;padding-left: 0.2em;position: relative;}#sk-container-id-2 div.sk-item {position: relative;z-index: 1;}#sk-container-id-2 div.sk-parallel {display: flex;align-items: stretch;justify-content: center;background-color: white;position: relative;}#sk-container-id-2 div.sk-item::before, #sk-container-id-2 div.sk-parallel-item::before {content: \"\";position: absolute;border-left: 1px solid gray;box-sizing: border-box;top: 0;bottom: 0;left: 50%;z-index: -1;}#sk-container-id-2 div.sk-parallel-item {display: flex;flex-direction: column;z-index: 1;position: relative;background-color: white;}#sk-container-id-2 div.sk-parallel-item:first-child::after {align-self: flex-end;width: 50%;}#sk-container-id-2 div.sk-parallel-item:last-child::after {align-self: flex-start;width: 50%;}#sk-container-id-2 div.sk-parallel-item:only-child::after {width: 0;}#sk-container-id-2 div.sk-dashed-wrapped {border: 1px dashed gray;margin: 0 0.4em 0.5em 0.4em;box-sizing: border-box;padding-bottom: 0.4em;background-color: white;}#sk-container-id-2 div.sk-label label {font-family: monospace;font-weight: bold;display: inline-block;line-height: 1.2em;}#sk-container-id-2 div.sk-label-container {text-align: center;}#sk-container-id-2 div.sk-container {/* jupyter's `normalize.less` sets `[hidden] { display: none; }` but bootstrap.min.css set `[hidden] { display: none !important; }` so we also need the `!important` here to be able to override the default hidden behavior on the sphinx rendered scikit-learn.org. See: https://github.com/scikit-learn/scikit-learn/issues/21755 */display: inline-block !important;position: relative;}#sk-container-id-2 div.sk-text-repr-fallback {display: none;}</style><div id=\"sk-container-id-2\" class=\"sk-top-container\"><div class=\"sk-text-repr-fallback\"><pre>RandomizedSearchCV(estimator=RandomForestClassifier(random_state=42), n_jobs=-1,\n",
       "                   param_distributions={&#x27;bootstrap&#x27;: [True, False],\n",
       "                                        &#x27;max_depth&#x27;: [10, 20, 30, 40, 50, 60],\n",
       "                                        &#x27;max_features&#x27;: [&#x27;sqrt&#x27;],\n",
       "                                        &#x27;min_samples_leaf&#x27;: [1, 2, 4],\n",
       "                                        &#x27;min_samples_split&#x27;: [2, 5, 10],\n",
       "                                        &#x27;n_estimators&#x27;: [600, 800, 1000, 1200,\n",
       "                                                         1400, 1600, 1800,\n",
       "                                                         2000]},\n",
       "                   random_state=42, verbose=10)</pre><b>In a Jupyter environment, please rerun this cell to show the HTML representation or trust the notebook. <br />On GitHub, the HTML representation is unable to render, please try loading this page with nbviewer.org.</b></div><div class=\"sk-container\" hidden><div class=\"sk-item sk-dashed-wrapped\"><div class=\"sk-label-container\"><div class=\"sk-label sk-toggleable\"><input class=\"sk-toggleable__control sk-hidden--visually\" id=\"sk-estimator-id-4\" type=\"checkbox\" ><label for=\"sk-estimator-id-4\" class=\"sk-toggleable__label sk-toggleable__label-arrow\">RandomizedSearchCV</label><div class=\"sk-toggleable__content\"><pre>RandomizedSearchCV(estimator=RandomForestClassifier(random_state=42), n_jobs=-1,\n",
       "                   param_distributions={&#x27;bootstrap&#x27;: [True, False],\n",
       "                                        &#x27;max_depth&#x27;: [10, 20, 30, 40, 50, 60],\n",
       "                                        &#x27;max_features&#x27;: [&#x27;sqrt&#x27;],\n",
       "                                        &#x27;min_samples_leaf&#x27;: [1, 2, 4],\n",
       "                                        &#x27;min_samples_split&#x27;: [2, 5, 10],\n",
       "                                        &#x27;n_estimators&#x27;: [600, 800, 1000, 1200,\n",
       "                                                         1400, 1600, 1800,\n",
       "                                                         2000]},\n",
       "                   random_state=42, verbose=10)</pre></div></div></div><div class=\"sk-parallel\"><div class=\"sk-parallel-item\"><div class=\"sk-item\"><div class=\"sk-label-container\"><div class=\"sk-label sk-toggleable\"><input class=\"sk-toggleable__control sk-hidden--visually\" id=\"sk-estimator-id-5\" type=\"checkbox\" ><label for=\"sk-estimator-id-5\" class=\"sk-toggleable__label sk-toggleable__label-arrow\">estimator: RandomForestClassifier</label><div class=\"sk-toggleable__content\"><pre>RandomForestClassifier(random_state=42)</pre></div></div></div><div class=\"sk-serial\"><div class=\"sk-item\"><div class=\"sk-estimator sk-toggleable\"><input class=\"sk-toggleable__control sk-hidden--visually\" id=\"sk-estimator-id-6\" type=\"checkbox\" ><label for=\"sk-estimator-id-6\" class=\"sk-toggleable__label sk-toggleable__label-arrow\">RandomForestClassifier</label><div class=\"sk-toggleable__content\"><pre>RandomForestClassifier(random_state=42)</pre></div></div></div></div></div></div></div></div></div></div>"
      ],
      "text/plain": [
       "RandomizedSearchCV(estimator=RandomForestClassifier(random_state=42), n_jobs=-1,\n",
       "                   param_distributions={'bootstrap': [True, False],\n",
       "                                        'max_depth': [10, 20, 30, 40, 50, 60],\n",
       "                                        'max_features': ['sqrt'],\n",
       "                                        'min_samples_leaf': [1, 2, 4],\n",
       "                                        'min_samples_split': [2, 5, 10],\n",
       "                                        'n_estimators': [600, 800, 1000, 1200,\n",
       "                                                         1400, 1600, 1800,\n",
       "                                                         2000]},\n",
       "                   random_state=42, verbose=10)"
      ]
     },
     "execution_count": 54,
     "metadata": {},
     "output_type": "execute_result"
    }
   ],
   "source": [
    "rfc=RandomForestClassifier(random_state=42)\n",
    "params1={'bootstrap': [True, False],\n",
    " 'max_depth': [10, 20, 30, 40, 50, 60],\n",
    " 'max_features': ['sqrt'],\n",
    " 'min_samples_leaf': [1, 2, 4],\n",
    " 'min_samples_split': [2, 5, 10],\n",
    " 'n_estimators': [600, 800, 1000, 1200, 1400, 1600, 1800, 2000]}\n",
    "random_rfc=RandomizedSearchCV(rfc,param_distributions=params1,verbose=10,n_jobs=-1,random_state=42)\n",
    "random_rfc.fit(result_kbest_20,y1_enco)"
   ]
  },
  {
   "cell_type": "code",
   "execution_count": 55,
   "id": "bca8d592-fd5b-448d-8c68-20db5d21e975",
   "metadata": {
    "tags": []
   },
   "outputs": [
    {
     "name": "stdout",
     "output_type": "stream",
     "text": [
      "RandomForestClassifier(max_depth=50, min_samples_split=5, n_estimators=1200,\n",
      "                       random_state=42)\n"
     ]
    }
   ],
   "source": [
    "print(random_rfc.best_estimator_)"
   ]
  },
  {
   "cell_type": "code",
   "execution_count": 56,
   "id": "1cdaded9-0756-44cf-8cbe-5df161c9bd4a",
   "metadata": {
    "tags": []
   },
   "outputs": [
    {
     "name": "stdout",
     "output_type": "stream",
     "text": [
      "0.7061679746141005\n"
     ]
    }
   ],
   "source": [
    "print(random_rfc.best_score_)"
   ]
  },
  {
   "cell_type": "code",
   "execution_count": 57,
   "id": "0ae43a25-8df6-4262-8611-477e14b07239",
   "metadata": {
    "tags": []
   },
   "outputs": [
    {
     "name": "stdout",
     "output_type": "stream",
     "text": [
      "The train f1_macro is: 0.9185097024913738\n",
      "The cross validation f1_macro is: 0.5140010087370345\n"
     ]
    }
   ],
   "source": [
    "rfc = RandomForestClassifier(n_estimators=1800,max_depth=20,max_features='sqrt',bootstrap=False, min_samples_leaf=2, min_samples_split=10,random_state=42)\n",
    "rfc.fit(result_kbest_20,y1_enco)\n",
    "cal_clf = CalibratedClassifierCV(rfc, method=\"sigmoid\")\n",
    "cal_clf.fit(result_kbest_20,y1_enco)\n",
    "predict_y =cal_clf .predict(result_kbest_20)\n",
    "print ('The train f1_macro is:',f1_score(y1_enco, predict_y,average='macro'))\n",
    "predict_y = cal_clf.predict(result_kbest_val)\n",
    "print('The cross validation f1_macro is:',f1_score(y1_en_val, predict_y,average='macro'))"
   ]
  },
  {
   "cell_type": "code",
   "execution_count": 58,
   "id": "cee637ef-085b-4d4b-b2e8-67dda09ab235",
   "metadata": {
    "tags": []
   },
   "outputs": [
    {
     "name": "stdout",
     "output_type": "stream",
     "text": [
      "shape of X before SMOTE: (13728, 41) \n",
      "shape of X after SMOTE: (31923, 41)\n",
      "balanced class (%):\n"
     ]
    },
    {
     "data": {
      "text/plain": [
       "0    11.111111\n",
       "1    11.111111\n",
       "2    11.111111\n",
       "3    11.111111\n",
       "4    11.111111\n",
       "5    11.111111\n",
       "6    11.111111\n",
       "7    11.111111\n",
       "8    11.111111\n",
       "Name: proportion, dtype: float64"
      ]
     },
     "execution_count": 58,
     "metadata": {},
     "output_type": "execute_result"
    }
   ],
   "source": [
    "smd=BorderlineSMOTE(random_state=42)\n",
    "X_smd, y_smd = smd.fit_resample(X2, pd.DataFrame(y2_en))\n",
    "print(f'''shape of X before SMOTE: {X2.shape} \n",
    "shape of X after SMOTE: {X_smd.shape}''')\n",
    "print('balanced class (%):')\n",
    "y_smd.value_counts(normalize=True) * 100"
   ]
  },
  {
   "cell_type": "code",
   "execution_count": 59,
   "id": "1a7f06c2-740c-4f3f-bbf9-6d51e07366ee",
   "metadata": {
    "tags": []
   },
   "outputs": [
    {
     "data": {
      "text/html": [
       "<div>\n",
       "<style scoped>\n",
       "    .dataframe tbody tr th:only-of-type {\n",
       "        vertical-align: middle;\n",
       "    }\n",
       "\n",
       "    .dataframe tbody tr th {\n",
       "        vertical-align: top;\n",
       "    }\n",
       "\n",
       "    .dataframe thead th {\n",
       "        text-align: right;\n",
       "    }\n",
       "</style>\n",
       "<table border=\"1\" class=\"dataframe\">\n",
       "  <thead>\n",
       "    <tr style=\"text-align: right;\">\n",
       "      <th></th>\n",
       "      <th>patient_age</th>\n",
       "      <th>defective_mother</th>\n",
       "      <th>defective_father</th>\n",
       "      <th>maternal_gene</th>\n",
       "      <th>paternal_gene</th>\n",
       "      <th>blood_cell_count</th>\n",
       "      <th>mother_age</th>\n",
       "      <th>father_age</th>\n",
       "      <th>Status</th>\n",
       "      <th>respiratory_rate</th>\n",
       "      <th>...</th>\n",
       "      <th>birth_defect_autopsy_Yes</th>\n",
       "      <th>radiation_exposure_Not applicable</th>\n",
       "      <th>radiation_exposure_Yes</th>\n",
       "      <th>radiation_exposure_others</th>\n",
       "      <th>substance_abuse_Not applicable</th>\n",
       "      <th>substance_abuse_Yes</th>\n",
       "      <th>substance_abuse_others</th>\n",
       "      <th>blood_test_result_inconclusive</th>\n",
       "      <th>blood_test_result_normal</th>\n",
       "      <th>blood_test_result_slightly abnormal</th>\n",
       "    </tr>\n",
       "  </thead>\n",
       "  <tbody>\n",
       "    <tr>\n",
       "      <th>0</th>\n",
       "      <td>0.714286</td>\n",
       "      <td>1.0</td>\n",
       "      <td>0.0</td>\n",
       "      <td>0.0</td>\n",
       "      <td>0.0</td>\n",
       "      <td>0.671194</td>\n",
       "      <td>0.939394</td>\n",
       "      <td>0.590909</td>\n",
       "      <td>1.0</td>\n",
       "      <td>0.0</td>\n",
       "      <td>...</td>\n",
       "      <td>0.0</td>\n",
       "      <td>0.0</td>\n",
       "      <td>0.0</td>\n",
       "      <td>1.0</td>\n",
       "      <td>1.0</td>\n",
       "      <td>0.0</td>\n",
       "      <td>0.0</td>\n",
       "      <td>0.0</td>\n",
       "      <td>0.0</td>\n",
       "      <td>1.0</td>\n",
       "    </tr>\n",
       "    <tr>\n",
       "      <th>1</th>\n",
       "      <td>0.142857</td>\n",
       "      <td>1.0</td>\n",
       "      <td>1.0</td>\n",
       "      <td>1.0</td>\n",
       "      <td>1.0</td>\n",
       "      <td>0.467503</td>\n",
       "      <td>0.242424</td>\n",
       "      <td>0.795455</td>\n",
       "      <td>0.0</td>\n",
       "      <td>0.0</td>\n",
       "      <td>...</td>\n",
       "      <td>0.0</td>\n",
       "      <td>1.0</td>\n",
       "      <td>0.0</td>\n",
       "      <td>0.0</td>\n",
       "      <td>1.0</td>\n",
       "      <td>0.0</td>\n",
       "      <td>0.0</td>\n",
       "      <td>0.0</td>\n",
       "      <td>0.0</td>\n",
       "      <td>1.0</td>\n",
       "    </tr>\n",
       "  </tbody>\n",
       "</table>\n",
       "<p>2 rows × 41 columns</p>\n",
       "</div>"
      ],
      "text/plain": [
       "   patient_age  defective_mother  defective_father  maternal_gene   \n",
       "0     0.714286               1.0               0.0            0.0  \\\n",
       "1     0.142857               1.0               1.0            1.0   \n",
       "\n",
       "   paternal_gene  blood_cell_count  mother_age  father_age  Status   \n",
       "0            0.0          0.671194    0.939394    0.590909     1.0  \\\n",
       "1            1.0          0.467503    0.242424    0.795455     0.0   \n",
       "\n",
       "   respiratory_rate  ...  birth_defect_autopsy_Yes   \n",
       "0               0.0  ...                       0.0  \\\n",
       "1               0.0  ...                       0.0   \n",
       "\n",
       "   radiation_exposure_Not applicable  radiation_exposure_Yes   \n",
       "0                                0.0                     0.0  \\\n",
       "1                                1.0                     0.0   \n",
       "\n",
       "   radiation_exposure_others  substance_abuse_Not applicable   \n",
       "0                        1.0                             1.0  \\\n",
       "1                        0.0                             1.0   \n",
       "\n",
       "   substance_abuse_Yes  substance_abuse_others   \n",
       "0                  0.0                     0.0  \\\n",
       "1                  0.0                     0.0   \n",
       "\n",
       "   blood_test_result_inconclusive  blood_test_result_normal   \n",
       "0                             0.0                       0.0  \\\n",
       "1                             0.0                       0.0   \n",
       "\n",
       "   blood_test_result_slightly abnormal  \n",
       "0                                  1.0  \n",
       "1                                  1.0  \n",
       "\n",
       "[2 rows x 41 columns]"
      ]
     },
     "execution_count": 59,
     "metadata": {},
     "output_type": "execute_result"
    }
   ],
   "source": [
    "X_smd.head(2)"
   ]
  },
  {
   "cell_type": "code",
   "execution_count": 60,
   "id": "3a3a095e-0be2-434a-99a6-06d101d2b342",
   "metadata": {
    "tags": []
   },
   "outputs": [],
   "source": [
    "y2_enco=np.array(y_smd).ravel()"
   ]
  },
  {
   "cell_type": "code",
   "execution_count": 61,
   "id": "92b97600-e788-4971-9290-b3810852f4ad",
   "metadata": {
    "tags": []
   },
   "outputs": [],
   "source": [
    "# feature selection \n",
    "sel2=SelectKBest(chi2, k=25).fit(X_smd,y2_enco)"
   ]
  },
  {
   "cell_type": "code",
   "execution_count": 62,
   "id": "e578d4c9-aa4a-4ee3-9835-e38cbb9455b7",
   "metadata": {
    "tags": []
   },
   "outputs": [
    {
     "name": "stdout",
     "output_type": "stream",
     "text": [
      "(31923, 25)\n"
     ]
    }
   ],
   "source": [
    "cols=sel2.get_support(indices=True)\n",
    "print(X_smd.iloc[:,cols].shape)\n",
    "result_kbest_20d=X_smd.iloc[:,cols]"
   ]
  },
  {
   "cell_type": "code",
   "execution_count": 63,
   "id": "5ccd4982-5e56-43fb-a0a9-e55aa18ead85",
   "metadata": {
    "tags": []
   },
   "outputs": [
    {
     "name": "stdout",
     "output_type": "stream",
     "text": [
      "Index(['defective_mother', 'maternal_gene', 'paternal_gene', 'Status',\n",
      "       'respiratory_rate', 'follow_up', 'maternal_illness',\n",
      "       'assisted_conception', 'previous_pregnancy_anomalies', 'birth_defects',\n",
      "       'WBC_count', 'Symptom 1', 'Symptom 4', 'Symptom 5', 'Gender_Female',\n",
      "       'Gender_Male', 'birth_asphyxia_No record',\n",
      "       'birth_asphyxia_Not available', 'birth_asphyxia_Yes',\n",
      "       'birth_defect_autopsy_Not applicable', 'birth_defect_autopsy_Yes',\n",
      "       'substance_abuse_Not applicable', 'substance_abuse_others',\n",
      "       'blood_test_result_inconclusive',\n",
      "       'blood_test_result_slightly abnormal'],\n",
      "      dtype='object')\n"
     ]
    }
   ],
   "source": [
    "sele_fead= X2.columns[(sel2.get_support())]\n",
    "print(sele_fead)"
   ]
  },
  {
   "cell_type": "code",
   "execution_count": 64,
   "id": "d62d90dc-a0e6-4052-93cd-c16cb42b8b55",
   "metadata": {
    "tags": []
   },
   "outputs": [
    {
     "name": "stdout",
     "output_type": "stream",
     "text": [
      "(3432, 25)\n"
     ]
    }
   ],
   "source": [
    "print(X2_val.iloc[:,cols].shape)\n",
    "result_kbest_vald=X2_val.iloc[:,cols]"
   ]
  },
  {
   "cell_type": "code",
   "execution_count": 65,
   "id": "2d65ff62-9999-4fd1-b9c9-7a0c8d556d0f",
   "metadata": {
    "tags": []
   },
   "outputs": [
    {
     "name": "stdout",
     "output_type": "stream",
     "text": [
      "(9290, 25)\n"
     ]
    }
   ],
   "source": [
    "print(X2_test.iloc[:,cols].shape)\n",
    "result_kbest_test20d=X2_test.iloc[:,cols]"
   ]
  },
  {
   "cell_type": "code",
   "execution_count": 66,
   "id": "43bd4666-4d3f-412a-a632-5a462b42db4e",
   "metadata": {
    "tags": []
   },
   "outputs": [
    {
     "name": "stderr",
     "output_type": "stream",
     "text": [
      "C:\\Users\\natsu\\AppData\\Local\\Programs\\Python\\Python310\\lib\\site-packages\\sklearn\\ensemble\\_forest.py:424: FutureWarning: `max_features='auto'` has been deprecated in 1.1 and will be removed in 1.3. To keep the past behaviour, explicitly set `max_features='sqrt'` or remove this parameter as it is also the default value for RandomForestClassifiers and ExtraTreesClassifiers.\n",
      "  warn(\n"
     ]
    },
    {
     "data": {
      "text/html": [
       "<style>#sk-container-id-3 {color: black;background-color: white;}#sk-container-id-3 pre{padding: 0;}#sk-container-id-3 div.sk-toggleable {background-color: white;}#sk-container-id-3 label.sk-toggleable__label {cursor: pointer;display: block;width: 100%;margin-bottom: 0;padding: 0.3em;box-sizing: border-box;text-align: center;}#sk-container-id-3 label.sk-toggleable__label-arrow:before {content: \"▸\";float: left;margin-right: 0.25em;color: #696969;}#sk-container-id-3 label.sk-toggleable__label-arrow:hover:before {color: black;}#sk-container-id-3 div.sk-estimator:hover label.sk-toggleable__label-arrow:before {color: black;}#sk-container-id-3 div.sk-toggleable__content {max-height: 0;max-width: 0;overflow: hidden;text-align: left;background-color: #f0f8ff;}#sk-container-id-3 div.sk-toggleable__content pre {margin: 0.2em;color: black;border-radius: 0.25em;background-color: #f0f8ff;}#sk-container-id-3 input.sk-toggleable__control:checked~div.sk-toggleable__content {max-height: 200px;max-width: 100%;overflow: auto;}#sk-container-id-3 input.sk-toggleable__control:checked~label.sk-toggleable__label-arrow:before {content: \"▾\";}#sk-container-id-3 div.sk-estimator input.sk-toggleable__control:checked~label.sk-toggleable__label {background-color: #d4ebff;}#sk-container-id-3 div.sk-label input.sk-toggleable__control:checked~label.sk-toggleable__label {background-color: #d4ebff;}#sk-container-id-3 input.sk-hidden--visually {border: 0;clip: rect(1px 1px 1px 1px);clip: rect(1px, 1px, 1px, 1px);height: 1px;margin: -1px;overflow: hidden;padding: 0;position: absolute;width: 1px;}#sk-container-id-3 div.sk-estimator {font-family: monospace;background-color: #f0f8ff;border: 1px dotted black;border-radius: 0.25em;box-sizing: border-box;margin-bottom: 0.5em;}#sk-container-id-3 div.sk-estimator:hover {background-color: #d4ebff;}#sk-container-id-3 div.sk-parallel-item::after {content: \"\";width: 100%;border-bottom: 1px solid gray;flex-grow: 1;}#sk-container-id-3 div.sk-label:hover label.sk-toggleable__label {background-color: #d4ebff;}#sk-container-id-3 div.sk-serial::before {content: \"\";position: absolute;border-left: 1px solid gray;box-sizing: border-box;top: 0;bottom: 0;left: 50%;z-index: 0;}#sk-container-id-3 div.sk-serial {display: flex;flex-direction: column;align-items: center;background-color: white;padding-right: 0.2em;padding-left: 0.2em;position: relative;}#sk-container-id-3 div.sk-item {position: relative;z-index: 1;}#sk-container-id-3 div.sk-parallel {display: flex;align-items: stretch;justify-content: center;background-color: white;position: relative;}#sk-container-id-3 div.sk-item::before, #sk-container-id-3 div.sk-parallel-item::before {content: \"\";position: absolute;border-left: 1px solid gray;box-sizing: border-box;top: 0;bottom: 0;left: 50%;z-index: -1;}#sk-container-id-3 div.sk-parallel-item {display: flex;flex-direction: column;z-index: 1;position: relative;background-color: white;}#sk-container-id-3 div.sk-parallel-item:first-child::after {align-self: flex-end;width: 50%;}#sk-container-id-3 div.sk-parallel-item:last-child::after {align-self: flex-start;width: 50%;}#sk-container-id-3 div.sk-parallel-item:only-child::after {width: 0;}#sk-container-id-3 div.sk-dashed-wrapped {border: 1px dashed gray;margin: 0 0.4em 0.5em 0.4em;box-sizing: border-box;padding-bottom: 0.4em;background-color: white;}#sk-container-id-3 div.sk-label label {font-family: monospace;font-weight: bold;display: inline-block;line-height: 1.2em;}#sk-container-id-3 div.sk-label-container {text-align: center;}#sk-container-id-3 div.sk-container {/* jupyter's `normalize.less` sets `[hidden] { display: none; }` but bootstrap.min.css set `[hidden] { display: none !important; }` so we also need the `!important` here to be able to override the default hidden behavior on the sphinx rendered scikit-learn.org. See: https://github.com/scikit-learn/scikit-learn/issues/21755 */display: inline-block !important;position: relative;}#sk-container-id-3 div.sk-text-repr-fallback {display: none;}</style><div id=\"sk-container-id-3\" class=\"sk-top-container\"><div class=\"sk-text-repr-fallback\"><pre>RandomizedSearchCV(estimator=RandomForestClassifier(random_state=42), n_jobs=-1,\n",
       "                   param_distributions={&#x27;bootstrap&#x27;: [True, False],\n",
       "                                        &#x27;max_depth&#x27;: [10, 20, 30, 40, 50, 60],\n",
       "                                        &#x27;max_features&#x27;: [&#x27;auto&#x27;, &#x27;sqrt&#x27;],\n",
       "                                        &#x27;min_samples_leaf&#x27;: [1, 2, 4],\n",
       "                                        &#x27;min_samples_split&#x27;: [2, 5, 10, 15],\n",
       "                                        &#x27;n_estimators&#x27;: [200, 400, 500, 600,\n",
       "                                                         800, 1000, 1200, 1400,\n",
       "                                                         1600, 1800, 2000]},\n",
       "                   random_state=42)</pre><b>In a Jupyter environment, please rerun this cell to show the HTML representation or trust the notebook. <br />On GitHub, the HTML representation is unable to render, please try loading this page with nbviewer.org.</b></div><div class=\"sk-container\" hidden><div class=\"sk-item sk-dashed-wrapped\"><div class=\"sk-label-container\"><div class=\"sk-label sk-toggleable\"><input class=\"sk-toggleable__control sk-hidden--visually\" id=\"sk-estimator-id-7\" type=\"checkbox\" ><label for=\"sk-estimator-id-7\" class=\"sk-toggleable__label sk-toggleable__label-arrow\">RandomizedSearchCV</label><div class=\"sk-toggleable__content\"><pre>RandomizedSearchCV(estimator=RandomForestClassifier(random_state=42), n_jobs=-1,\n",
       "                   param_distributions={&#x27;bootstrap&#x27;: [True, False],\n",
       "                                        &#x27;max_depth&#x27;: [10, 20, 30, 40, 50, 60],\n",
       "                                        &#x27;max_features&#x27;: [&#x27;auto&#x27;, &#x27;sqrt&#x27;],\n",
       "                                        &#x27;min_samples_leaf&#x27;: [1, 2, 4],\n",
       "                                        &#x27;min_samples_split&#x27;: [2, 5, 10, 15],\n",
       "                                        &#x27;n_estimators&#x27;: [200, 400, 500, 600,\n",
       "                                                         800, 1000, 1200, 1400,\n",
       "                                                         1600, 1800, 2000]},\n",
       "                   random_state=42)</pre></div></div></div><div class=\"sk-parallel\"><div class=\"sk-parallel-item\"><div class=\"sk-item\"><div class=\"sk-label-container\"><div class=\"sk-label sk-toggleable\"><input class=\"sk-toggleable__control sk-hidden--visually\" id=\"sk-estimator-id-8\" type=\"checkbox\" ><label for=\"sk-estimator-id-8\" class=\"sk-toggleable__label sk-toggleable__label-arrow\">estimator: RandomForestClassifier</label><div class=\"sk-toggleable__content\"><pre>RandomForestClassifier(random_state=42)</pre></div></div></div><div class=\"sk-serial\"><div class=\"sk-item\"><div class=\"sk-estimator sk-toggleable\"><input class=\"sk-toggleable__control sk-hidden--visually\" id=\"sk-estimator-id-9\" type=\"checkbox\" ><label for=\"sk-estimator-id-9\" class=\"sk-toggleable__label sk-toggleable__label-arrow\">RandomForestClassifier</label><div class=\"sk-toggleable__content\"><pre>RandomForestClassifier(random_state=42)</pre></div></div></div></div></div></div></div></div></div></div>"
      ],
      "text/plain": [
       "RandomizedSearchCV(estimator=RandomForestClassifier(random_state=42), n_jobs=-1,\n",
       "                   param_distributions={'bootstrap': [True, False],\n",
       "                                        'max_depth': [10, 20, 30, 40, 50, 60],\n",
       "                                        'max_features': ['auto', 'sqrt'],\n",
       "                                        'min_samples_leaf': [1, 2, 4],\n",
       "                                        'min_samples_split': [2, 5, 10, 15],\n",
       "                                        'n_estimators': [200, 400, 500, 600,\n",
       "                                                         800, 1000, 1200, 1400,\n",
       "                                                         1600, 1800, 2000]},\n",
       "                   random_state=42)"
      ]
     },
     "execution_count": 66,
     "metadata": {},
     "output_type": "execute_result"
    }
   ],
   "source": [
    "rfc1=r_cfl=RandomForestClassifier(random_state=42)\n",
    "params1={'bootstrap': [True, False],\n",
    " 'max_depth': [10, 20, 30, 40, 50, 60],\n",
    " 'max_features': ['sqrt'],\n",
    " 'min_samples_leaf': [1, 2, 4],\n",
    " 'min_samples_split': [2, 5, 10,15],\n",
    " 'n_estimators': [200, 400, 500, 600, 800, 1000, 1200, 1400, 1600, 1800, 2000]}\n",
    "random_rfc1=RandomizedSearchCV(rfc1,param_distributions=params1,n_jobs=-1,random_state=42)\n",
    "random_rfc1.fit(result_kbest_20d,y2_enco)"
   ]
  },
  {
   "cell_type": "code",
   "execution_count": 67,
   "id": "0f481dc1-fee7-40f0-b53c-c25a380759d8",
   "metadata": {
    "tags": []
   },
   "outputs": [
    {
     "name": "stdout",
     "output_type": "stream",
     "text": [
      "RandomForestClassifier(bootstrap=False, max_depth=30, max_features='auto',\n",
      "                       min_samples_leaf=2, min_samples_split=5,\n",
      "                       n_estimators=500, random_state=42)\n"
     ]
    }
   ],
   "source": [
    "print(random_rfc1.best_estimator_)"
   ]
  },
  {
   "cell_type": "code",
   "execution_count": 68,
   "id": "c0dfb70b-55a2-4e32-933d-53a4042e0ab7",
   "metadata": {
    "tags": []
   },
   "outputs": [
    {
     "name": "stdout",
     "output_type": "stream",
     "text": [
      "0.6579642479338518\n"
     ]
    }
   ],
   "source": [
    "print(random_rfc1.best_score_)"
   ]
  },
  {
   "cell_type": "code",
   "execution_count": 69,
   "id": "43607f34-5ef1-4b95-905a-f682b25a3774",
   "metadata": {
    "tags": []
   },
   "outputs": [
    {
     "name": "stdout",
     "output_type": "stream",
     "text": [
      "The train f1_macro is: 0.99645691450542\n",
      "The cross validation f1_macro is: 0.10168967221045688\n"
     ]
    }
   ],
   "source": [
    "rfc1= RandomForestClassifier(n_estimators=500,max_depth=30,min_samples_leaf=2,min_samples_split=5,bootstrap=False,random_state=42)\n",
    "rfc1.fit(result_kbest_20d,y2_enco)\n",
    "cal_clf = CalibratedClassifierCV(rfc1, method=\"sigmoid\")\n",
    "cal_clf.fit(result_kbest_20d,y2_enco)\n",
    "predict_y =cal_clf .predict(result_kbest_20d)\n",
    "print ('The train f1_macro is:',f1_score(y2_enco, predict_y,average='macro'))\n",
    "predict_y = cal_clf.predict(result_kbest_vald)\n",
    "print('The cross validation f1_macro is:',f1_score(y2_en_val, predict_y,average='macro'))"
   ]
  },
  {
   "cell_type": "code",
   "execution_count": null,
   "id": "0a55da5e-1f52-4ff9-877c-cf3565ebd68d",
   "metadata": {},
   "outputs": [],
   "source": []
  }
 ],
 "metadata": {
  "kernelspec": {
   "display_name": "Python 3 (ipykernel)",
   "language": "python",
   "name": "python3"
  },
  "language_info": {
   "codemirror_mode": {
    "name": "ipython",
    "version": 3
   },
   "file_extension": ".py",
   "mimetype": "text/x-python",
   "name": "python",
   "nbconvert_exporter": "python",
   "pygments_lexer": "ipython3",
   "version": "3.10.3"
  }
 },
 "nbformat": 4,
 "nbformat_minor": 5
}

from sklearn.metrics import f1_score
from sklearn.neighbors import KNeighborsClassifier

nn=[x for x in range(1, 15, 2)]
cv_f1_macro=[]
for i in nn:
    knn=KNeighborsClassifier(n_neighbors=i,n_jobs=-1)
    knn.fit(result_kbest_20,y1_enco)
    cal_clf = CalibratedClassifierCV(knn, method="sigmoid")
    cal_clf.fit(result_kbest_20,y1_enco)
    predict_y=cal_clf.predict(result_kbest_val)
    cv_f1_macro.append(f1_score(y1_en_val, predict_y,average='macro'))
for i in range(len(cv_f1_macro)):
    print ('f1_macro for k = ',nn[i],'is',cv_f1_macro[i])
best_nn = np.argmax(cv_f1_macro)
knn=KNeighborsClassifier(n_neighbors=nn[best_nn])
knn.fit(result_kbest_20,y1_enco)
cal_clf = CalibratedClassifierCV(knn, method="sigmoid")
cal_clf.fit(result_kbest_20,y1_enco)

predict_y =cal_clf .predict(result_kbest_20)
print ('For values of best nn = ', nn[best_nn], "The train f1_macro is:",f1_score(y1_enco, predict_y,average='macro'))
predict_y = cal_clf.predict(result_kbest_val)
print('For values of best nn = ', nn[best_nn], "The cross validation f1_macro is:",f1_score(y1_en_val, predict_y,average='macro'))
